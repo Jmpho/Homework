{
 "cells": [
  {
   "cell_type": "markdown",
   "id": "fd3455b3-6616-4c78-b2ad-4726af51be56",
   "metadata": {},
   "source": [
    "# Data Science Tools and Ecosystem"
   ]
  },
  {
   "cell_type": "markdown",
   "id": "623d4098-c0a2-4185-ac18-c5bcf8753473",
   "metadata": {},
   "source": [
    "In this notebook, Data Science Tools and Ecosystem are summarized."
   ]
  },
  {
   "cell_type": "markdown",
   "id": "de335d8f-aebb-4eb4-9905-22e4f1a926e1",
   "metadata": {},
   "source": [
    "Some of the popular languages that Data Scientists use are:\n",
    "\n",
    "1. Python\n",
    "2. SQL\n",
    "3. R"
   ]
  },
  {
   "cell_type": "markdown",
   "id": "39453e11-e4e5-45cd-88cd-9a04db506393",
   "metadata": {},
   "source": [
    "Some of the commonly used libraries used by Data Scientists include:\n",
    "1. ggplot\n",
    "2. GGally\n",
    "3. dplyr"
   ]
  },
  {
   "cell_type": "markdown",
   "id": "9a0837d6-a177-4e1e-b1ec-afdbd4ae136a",
   "metadata": {},
   "source": [
    "Data Science Tools|\n",
    "---|\n",
    "MySQL|\n",
    "Jupyter|\n",
    "RStudio|"
   ]
  },
  {
   "cell_type": "markdown",
   "id": "c2ac2c04-ea53-4be6-90a8-56029654c665",
   "metadata": {},
   "source": [
    "### Below are a few examples of evaluating arithmetic expressions in Python"
   ]
  },
  {
   "cell_type": "code",
   "execution_count": 1,
   "id": "a6043e2f-9d60-4797-a948-0df27cdc4a65",
   "metadata": {
    "tags": []
   },
   "outputs": [
    {
     "data": {
      "text/html": [
       "17"
      ],
      "text/latex": [
       "17"
      ],
      "text/markdown": [
       "17"
      ],
      "text/plain": [
       "[1] 17"
      ]
     },
     "metadata": {},
     "output_type": "display_data"
    }
   ],
   "source": [
    "# This a simple arithmetic expression to mutiply then add integers\n",
    "(3*4)+5"
   ]
  },
  {
   "cell_type": "code",
   "execution_count": 2,
   "id": "6891a174-a98a-4f5e-85b0-b9d145bfec7b",
   "metadata": {
    "tags": []
   },
   "outputs": [
    {
     "data": {
      "text/html": [
       "3.33333333333333"
      ],
      "text/latex": [
       "3.33333333333333"
      ],
      "text/markdown": [
       "3.33333333333333"
      ],
      "text/plain": [
       "[1] 3.333333"
      ]
     },
     "metadata": {},
     "output_type": "display_data"
    }
   ],
   "source": [
    "# This will convert 200 minutes to hours by diving by 60\n",
    "200/60"
   ]
  },
  {
   "cell_type": "markdown",
   "id": "1fcca77f-db86-48b8-9666-4fbbc4978233",
   "metadata": {},
   "source": [
    "**Objectives:**\n",
    "- List popular languages for Data Science\n",
    "- Create a Table\n",
    "- List Open Source Tools for Data Science"
   ]
  },
  {
   "cell_type": "markdown",
   "id": "35eb0143-4f58-449d-b459-03ad2f8c1998",
   "metadata": {},
   "source": [
    "## Author\n",
    "\n",
    "Jamie W"
   ]
  },
  {
   "cell_type": "code",
   "execution_count": null,
   "id": "cc5d625f-6fd8-4546-a9ca-32913bc03cff",
   "metadata": {},
   "outputs": [],
   "source": []
  }
 ],
 "metadata": {
  "kernelspec": {
   "display_name": "R",
   "language": "R",
   "name": "conda-env-r-r"
  },
  "language_info": {
   "codemirror_mode": "r",
   "file_extension": ".r",
   "mimetype": "text/x-r-source",
   "name": "R",
   "pygments_lexer": "r",
   "version": "3.5.1"
  }
 },
 "nbformat": 4,
 "nbformat_minor": 5
}
